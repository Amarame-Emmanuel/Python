{
 "cells": [
  {
   "cell_type": "code",
   "execution_count": null,
   "id": "ee7ff3d1",
   "metadata": {},
   "outputs": [],
   "source": [
    "class Superstore():\n",
    "    def __init__(self, price, name, account):\n",
    "        self.price = price\n",
    "        self.name = name\n",
    "        self.account = account\n",
    "    def"
   ]
  }
 ],
 "metadata": {
  "kernelspec": {
   "display_name": "Python 3 (ipykernel)",
   "language": "python",
   "name": "python3"
  },
  "language_info": {
   "codemirror_mode": {
    "name": "ipython",
    "version": 3
   },
   "file_extension": ".py",
   "mimetype": "text/x-python",
   "name": "python",
   "nbconvert_exporter": "python",
   "pygments_lexer": "ipython3",
   "version": "3.10.9"
  }
 },
 "nbformat": 4,
 "nbformat_minor": 5
}
