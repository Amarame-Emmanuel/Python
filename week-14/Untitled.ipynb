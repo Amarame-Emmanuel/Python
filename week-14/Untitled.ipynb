{
 "cells": [
  {
   "cell_type": "code",
   "execution_count": 5,
   "id": "41847c65",
   "metadata": {},
   "outputs": [
    {
     "name": "stdout",
     "output_type": "stream",
     "text": [
      "9\n",
      "16\n",
      "25\n",
      "36\n",
      "49\n",
      "64\n"
     ]
    }
   ],
   "source": [
    "numbers = [1, 2, 3, 4, 6, 11, 20]\n",
    "sq = 0\n",
    "for val in range(3,9):\n",
    "    sq = val * val\n",
    "    print(sq)"
   ]
  },
  {
   "cell_type": "code",
   "execution_count": 4,
   "id": "8c00d7f9",
   "metadata": {},
   "outputs": [
    {
     "name": "stdout",
     "output_type": "stream",
     "text": [
      "8\n",
      "6\n",
      "4\n"
     ]
    }
   ],
   "source": [
    "x = range(8, 3, -2)\n",
    "for n in x:\n",
    "    print(n)"
   ]
  },
  {
   "cell_type": "code",
   "execution_count": 6,
   "id": "8b9d49bc",
   "metadata": {},
   "outputs": [
    {
     "name": "stdout",
     "output_type": "stream",
     "text": [
      "2\n",
      "7\n"
     ]
    }
   ],
   "source": [
    "def bank(x):\n",
    "    x = x + [5]\n",
    "    c = [4, 5, 6, 1]\n",
    "c = [3, 2, 3, 4, 7]\n",
    "print(min(c))\n",
    "bank(c)\n",
    "print(len(c) + min(c))"
   ]
  },
  {
   "cell_type": "code",
   "execution_count": 10,
   "id": "fee7d8a3",
   "metadata": {},
   "outputs": [
    {
     "name": "stdout",
     "output_type": "stream",
     "text": [
      "512\n"
     ]
    }
   ],
   "source": [
    "from array import *\n",
    "Play = [[121, 212, 35, 112], [150, 600, 150], [310, 809, 412, 512]]\n",
    "print(Play[2][3])"
   ]
  },
  {
   "cell_type": "code",
   "execution_count": 13,
   "id": "997e9de0",
   "metadata": {},
   "outputs": [
    {
     "name": "stdout",
     "output_type": "stream",
     "text": [
      "1\n",
      "4.5\n",
      "8.0\n"
     ]
    }
   ],
   "source": [
    "num = 1\n",
    "while num < 9:\n",
    "    print(num)\n",
    "    num = num + 3.5"
   ]
  },
  {
   "cell_type": "code",
   "execution_count": null,
   "id": "472bdf34",
   "metadata": {},
   "outputs": [],
   "source": []
  }
 ],
 "metadata": {
  "kernelspec": {
   "display_name": "Python 3 (ipykernel)",
   "language": "python",
   "name": "python3"
  },
  "language_info": {
   "codemirror_mode": {
    "name": "ipython",
    "version": 3
   },
   "file_extension": ".py",
   "mimetype": "text/x-python",
   "name": "python",
   "nbconvert_exporter": "python",
   "pygments_lexer": "ipython3",
   "version": "3.10.9"
  }
 },
 "nbformat": 4,
 "nbformat_minor": 5
}
